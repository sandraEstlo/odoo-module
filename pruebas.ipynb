{
 "cells": [
  {
   "cell_type": "code",
   "execution_count": null,
   "metadata": {},
   "outputs": [],
   "source": [
    "import xmlrpc.client\n",
    "\n",
    "url = 'http://127.0.0.1:8069'\n",
    "db = 'db'\n",
    "username = 'odoo'\n",
    "password = 'odoo'\n",
    "\n",
    "common = xmlrpc.client.ServerProxy('{}/xmlrpc/2/common'.format(url))\n",
    "common.version()"
   ]
  }
 ],
 "metadata": {
  "language_info": {
   "name": "python"
  }
 },
 "nbformat": 4,
 "nbformat_minor": 2
}
